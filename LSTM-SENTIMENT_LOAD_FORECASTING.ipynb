{
  "nbformat": 4,
  "nbformat_minor": 0,
  "metadata": {
    "colab": {
      "provenance": []
    },
    "kernelspec": {
      "name": "python3",
      "display_name": "Python 3"
    },
    "language_info": {
      "name": "python"
    }
  },
  "cells": [
    {
      "cell_type": "code",
      "source": [
        "import numpy as np\n",
        "import pandas as pd\n",
        "from keras.layers import Dense, Input, LSTM\n",
        "import plotly.express as exp\n",
        "from statsmodels.tsa.seasonal import seasonal_decompose\n",
        "from sklearn.metrics import mean_squared_error, mean_absolute_error, r2_score\n",
        "from keras.models import Model\n",
        "from sklearn.preprocessing import StandardScaler\n",
        "from sklearn.model_selection import train_test_split"
      ],
      "metadata": {
        "id": "SbRGNSnH80Yg"
      },
      "execution_count": 1,
      "outputs": []
    },
    {
      "cell_type": "code",
      "execution_count": 3,
      "metadata": {
        "id": "0907lwqP8YPf"
      },
      "outputs": [],
      "source": [
        "SA_train = pd.read_csv('/content/SentimentAnalysisTrain.csv', encoding = 'latin')\n",
        "SA_test = pd.read_csv('/content/SentimentAnalysisTest.csv', encoding = 'latin')"
      ]
    },
    {
      "cell_type": "code",
      "source": [
        "SA_train.head()"
      ],
      "metadata": {
        "colab": {
          "base_uri": "https://localhost:8080/",
          "height": 293
        },
        "id": "ChfkJI3c8-jM",
        "outputId": "3c90922d-c947-474c-d372-eca25a31fe4e"
      },
      "execution_count": 4,
      "outputs": [
        {
          "output_type": "execute_result",
          "data": {
            "text/plain": [
              "       textID                                               text  \\\n",
              "0  cb774db0d1                I`d have responded, if I were going   \n",
              "1  549e992a42      Sooo SAD I will miss you here in San Diego!!!   \n",
              "2  088c60f138                          my boss is bullying me...   \n",
              "3  9642c003ef                     what interview! leave me alone   \n",
              "4  358bd9e861   Sons of ****, why couldn`t they put them on t...   \n",
              "\n",
              "                         selected_text sentiment Time of Tweet Age of User  \\\n",
              "0  I`d have responded, if I were going   neutral       morning        0-20   \n",
              "1                             Sooo SAD  negative          noon       21-30   \n",
              "2                          bullying me  negative         night       31-45   \n",
              "3                       leave me alone  negative       morning       46-60   \n",
              "4                        Sons of ****,  negative          noon       60-70   \n",
              "\n",
              "       Country  Population -2020  Land Area (Km²)  Density (P/Km²)  \n",
              "0  Afghanistan          38928346         652860.0               60  \n",
              "1      Albania           2877797          27400.0              105  \n",
              "2      Algeria          43851044        2381740.0               18  \n",
              "3      Andorra             77265            470.0              164  \n",
              "4       Angola          32866272        1246700.0               26  "
            ],
            "text/html": [
              "\n",
              "  <div id=\"df-7db61ea9-6c13-4dbf-9fbe-43edce09c114\" class=\"colab-df-container\">\n",
              "    <div>\n",
              "<style scoped>\n",
              "    .dataframe tbody tr th:only-of-type {\n",
              "        vertical-align: middle;\n",
              "    }\n",
              "\n",
              "    .dataframe tbody tr th {\n",
              "        vertical-align: top;\n",
              "    }\n",
              "\n",
              "    .dataframe thead th {\n",
              "        text-align: right;\n",
              "    }\n",
              "</style>\n",
              "<table border=\"1\" class=\"dataframe\">\n",
              "  <thead>\n",
              "    <tr style=\"text-align: right;\">\n",
              "      <th></th>\n",
              "      <th>textID</th>\n",
              "      <th>text</th>\n",
              "      <th>selected_text</th>\n",
              "      <th>sentiment</th>\n",
              "      <th>Time of Tweet</th>\n",
              "      <th>Age of User</th>\n",
              "      <th>Country</th>\n",
              "      <th>Population -2020</th>\n",
              "      <th>Land Area (Km²)</th>\n",
              "      <th>Density (P/Km²)</th>\n",
              "    </tr>\n",
              "  </thead>\n",
              "  <tbody>\n",
              "    <tr>\n",
              "      <th>0</th>\n",
              "      <td>cb774db0d1</td>\n",
              "      <td>I`d have responded, if I were going</td>\n",
              "      <td>I`d have responded, if I were going</td>\n",
              "      <td>neutral</td>\n",
              "      <td>morning</td>\n",
              "      <td>0-20</td>\n",
              "      <td>Afghanistan</td>\n",
              "      <td>38928346</td>\n",
              "      <td>652860.0</td>\n",
              "      <td>60</td>\n",
              "    </tr>\n",
              "    <tr>\n",
              "      <th>1</th>\n",
              "      <td>549e992a42</td>\n",
              "      <td>Sooo SAD I will miss you here in San Diego!!!</td>\n",
              "      <td>Sooo SAD</td>\n",
              "      <td>negative</td>\n",
              "      <td>noon</td>\n",
              "      <td>21-30</td>\n",
              "      <td>Albania</td>\n",
              "      <td>2877797</td>\n",
              "      <td>27400.0</td>\n",
              "      <td>105</td>\n",
              "    </tr>\n",
              "    <tr>\n",
              "      <th>2</th>\n",
              "      <td>088c60f138</td>\n",
              "      <td>my boss is bullying me...</td>\n",
              "      <td>bullying me</td>\n",
              "      <td>negative</td>\n",
              "      <td>night</td>\n",
              "      <td>31-45</td>\n",
              "      <td>Algeria</td>\n",
              "      <td>43851044</td>\n",
              "      <td>2381740.0</td>\n",
              "      <td>18</td>\n",
              "    </tr>\n",
              "    <tr>\n",
              "      <th>3</th>\n",
              "      <td>9642c003ef</td>\n",
              "      <td>what interview! leave me alone</td>\n",
              "      <td>leave me alone</td>\n",
              "      <td>negative</td>\n",
              "      <td>morning</td>\n",
              "      <td>46-60</td>\n",
              "      <td>Andorra</td>\n",
              "      <td>77265</td>\n",
              "      <td>470.0</td>\n",
              "      <td>164</td>\n",
              "    </tr>\n",
              "    <tr>\n",
              "      <th>4</th>\n",
              "      <td>358bd9e861</td>\n",
              "      <td>Sons of ****, why couldn`t they put them on t...</td>\n",
              "      <td>Sons of ****,</td>\n",
              "      <td>negative</td>\n",
              "      <td>noon</td>\n",
              "      <td>60-70</td>\n",
              "      <td>Angola</td>\n",
              "      <td>32866272</td>\n",
              "      <td>1246700.0</td>\n",
              "      <td>26</td>\n",
              "    </tr>\n",
              "  </tbody>\n",
              "</table>\n",
              "</div>\n",
              "    <div class=\"colab-df-buttons\">\n",
              "\n",
              "  <div class=\"colab-df-container\">\n",
              "    <button class=\"colab-df-convert\" onclick=\"convertToInteractive('df-7db61ea9-6c13-4dbf-9fbe-43edce09c114')\"\n",
              "            title=\"Convert this dataframe to an interactive table.\"\n",
              "            style=\"display:none;\">\n",
              "\n",
              "  <svg xmlns=\"http://www.w3.org/2000/svg\" height=\"24px\" viewBox=\"0 -960 960 960\">\n",
              "    <path d=\"M120-120v-720h720v720H120Zm60-500h600v-160H180v160Zm220 220h160v-160H400v160Zm0 220h160v-160H400v160ZM180-400h160v-160H180v160Zm440 0h160v-160H620v160ZM180-180h160v-160H180v160Zm440 0h160v-160H620v160Z\"/>\n",
              "  </svg>\n",
              "    </button>\n",
              "\n",
              "  <style>\n",
              "    .colab-df-container {\n",
              "      display:flex;\n",
              "      gap: 12px;\n",
              "    }\n",
              "\n",
              "    .colab-df-convert {\n",
              "      background-color: #E8F0FE;\n",
              "      border: none;\n",
              "      border-radius: 50%;\n",
              "      cursor: pointer;\n",
              "      display: none;\n",
              "      fill: #1967D2;\n",
              "      height: 32px;\n",
              "      padding: 0 0 0 0;\n",
              "      width: 32px;\n",
              "    }\n",
              "\n",
              "    .colab-df-convert:hover {\n",
              "      background-color: #E2EBFA;\n",
              "      box-shadow: 0px 1px 2px rgba(60, 64, 67, 0.3), 0px 1px 3px 1px rgba(60, 64, 67, 0.15);\n",
              "      fill: #174EA6;\n",
              "    }\n",
              "\n",
              "    .colab-df-buttons div {\n",
              "      margin-bottom: 4px;\n",
              "    }\n",
              "\n",
              "    [theme=dark] .colab-df-convert {\n",
              "      background-color: #3B4455;\n",
              "      fill: #D2E3FC;\n",
              "    }\n",
              "\n",
              "    [theme=dark] .colab-df-convert:hover {\n",
              "      background-color: #434B5C;\n",
              "      box-shadow: 0px 1px 3px 1px rgba(0, 0, 0, 0.15);\n",
              "      filter: drop-shadow(0px 1px 2px rgba(0, 0, 0, 0.3));\n",
              "      fill: #FFFFFF;\n",
              "    }\n",
              "  </style>\n",
              "\n",
              "    <script>\n",
              "      const buttonEl =\n",
              "        document.querySelector('#df-7db61ea9-6c13-4dbf-9fbe-43edce09c114 button.colab-df-convert');\n",
              "      buttonEl.style.display =\n",
              "        google.colab.kernel.accessAllowed ? 'block' : 'none';\n",
              "\n",
              "      async function convertToInteractive(key) {\n",
              "        const element = document.querySelector('#df-7db61ea9-6c13-4dbf-9fbe-43edce09c114');\n",
              "        const dataTable =\n",
              "          await google.colab.kernel.invokeFunction('convertToInteractive',\n",
              "                                                    [key], {});\n",
              "        if (!dataTable) return;\n",
              "\n",
              "        const docLinkHtml = 'Like what you see? Visit the ' +\n",
              "          '<a target=\"_blank\" href=https://colab.research.google.com/notebooks/data_table.ipynb>data table notebook</a>'\n",
              "          + ' to learn more about interactive tables.';\n",
              "        element.innerHTML = '';\n",
              "        dataTable['output_type'] = 'display_data';\n",
              "        await google.colab.output.renderOutput(dataTable, element);\n",
              "        const docLink = document.createElement('div');\n",
              "        docLink.innerHTML = docLinkHtml;\n",
              "        element.appendChild(docLink);\n",
              "      }\n",
              "    </script>\n",
              "  </div>\n",
              "\n",
              "\n",
              "<div id=\"df-7a004450-91e1-4d09-8a8a-61ba81ccb95b\">\n",
              "  <button class=\"colab-df-quickchart\" onclick=\"quickchart('df-7a004450-91e1-4d09-8a8a-61ba81ccb95b')\"\n",
              "            title=\"Suggest charts.\"\n",
              "            style=\"display:none;\">\n",
              "\n",
              "<svg xmlns=\"http://www.w3.org/2000/svg\" height=\"24px\"viewBox=\"0 0 24 24\"\n",
              "     width=\"24px\">\n",
              "    <g>\n",
              "        <path d=\"M19 3H5c-1.1 0-2 .9-2 2v14c0 1.1.9 2 2 2h14c1.1 0 2-.9 2-2V5c0-1.1-.9-2-2-2zM9 17H7v-7h2v7zm4 0h-2V7h2v10zm4 0h-2v-4h2v4z\"/>\n",
              "    </g>\n",
              "</svg>\n",
              "  </button>\n",
              "\n",
              "<style>\n",
              "  .colab-df-quickchart {\n",
              "      --bg-color: #E8F0FE;\n",
              "      --fill-color: #1967D2;\n",
              "      --hover-bg-color: #E2EBFA;\n",
              "      --hover-fill-color: #174EA6;\n",
              "      --disabled-fill-color: #AAA;\n",
              "      --disabled-bg-color: #DDD;\n",
              "  }\n",
              "\n",
              "  [theme=dark] .colab-df-quickchart {\n",
              "      --bg-color: #3B4455;\n",
              "      --fill-color: #D2E3FC;\n",
              "      --hover-bg-color: #434B5C;\n",
              "      --hover-fill-color: #FFFFFF;\n",
              "      --disabled-bg-color: #3B4455;\n",
              "      --disabled-fill-color: #666;\n",
              "  }\n",
              "\n",
              "  .colab-df-quickchart {\n",
              "    background-color: var(--bg-color);\n",
              "    border: none;\n",
              "    border-radius: 50%;\n",
              "    cursor: pointer;\n",
              "    display: none;\n",
              "    fill: var(--fill-color);\n",
              "    height: 32px;\n",
              "    padding: 0;\n",
              "    width: 32px;\n",
              "  }\n",
              "\n",
              "  .colab-df-quickchart:hover {\n",
              "    background-color: var(--hover-bg-color);\n",
              "    box-shadow: 0 1px 2px rgba(60, 64, 67, 0.3), 0 1px 3px 1px rgba(60, 64, 67, 0.15);\n",
              "    fill: var(--button-hover-fill-color);\n",
              "  }\n",
              "\n",
              "  .colab-df-quickchart-complete:disabled,\n",
              "  .colab-df-quickchart-complete:disabled:hover {\n",
              "    background-color: var(--disabled-bg-color);\n",
              "    fill: var(--disabled-fill-color);\n",
              "    box-shadow: none;\n",
              "  }\n",
              "\n",
              "  .colab-df-spinner {\n",
              "    border: 2px solid var(--fill-color);\n",
              "    border-color: transparent;\n",
              "    border-bottom-color: var(--fill-color);\n",
              "    animation:\n",
              "      spin 1s steps(1) infinite;\n",
              "  }\n",
              "\n",
              "  @keyframes spin {\n",
              "    0% {\n",
              "      border-color: transparent;\n",
              "      border-bottom-color: var(--fill-color);\n",
              "      border-left-color: var(--fill-color);\n",
              "    }\n",
              "    20% {\n",
              "      border-color: transparent;\n",
              "      border-left-color: var(--fill-color);\n",
              "      border-top-color: var(--fill-color);\n",
              "    }\n",
              "    30% {\n",
              "      border-color: transparent;\n",
              "      border-left-color: var(--fill-color);\n",
              "      border-top-color: var(--fill-color);\n",
              "      border-right-color: var(--fill-color);\n",
              "    }\n",
              "    40% {\n",
              "      border-color: transparent;\n",
              "      border-right-color: var(--fill-color);\n",
              "      border-top-color: var(--fill-color);\n",
              "    }\n",
              "    60% {\n",
              "      border-color: transparent;\n",
              "      border-right-color: var(--fill-color);\n",
              "    }\n",
              "    80% {\n",
              "      border-color: transparent;\n",
              "      border-right-color: var(--fill-color);\n",
              "      border-bottom-color: var(--fill-color);\n",
              "    }\n",
              "    90% {\n",
              "      border-color: transparent;\n",
              "      border-bottom-color: var(--fill-color);\n",
              "    }\n",
              "  }\n",
              "</style>\n",
              "\n",
              "  <script>\n",
              "    async function quickchart(key) {\n",
              "      const quickchartButtonEl =\n",
              "        document.querySelector('#' + key + ' button');\n",
              "      quickchartButtonEl.disabled = true;  // To prevent multiple clicks.\n",
              "      quickchartButtonEl.classList.add('colab-df-spinner');\n",
              "      try {\n",
              "        const charts = await google.colab.kernel.invokeFunction(\n",
              "            'suggestCharts', [key], {});\n",
              "      } catch (error) {\n",
              "        console.error('Error during call to suggestCharts:', error);\n",
              "      }\n",
              "      quickchartButtonEl.classList.remove('colab-df-spinner');\n",
              "      quickchartButtonEl.classList.add('colab-df-quickchart-complete');\n",
              "    }\n",
              "    (() => {\n",
              "      let quickchartButtonEl =\n",
              "        document.querySelector('#df-7a004450-91e1-4d09-8a8a-61ba81ccb95b button');\n",
              "      quickchartButtonEl.style.display =\n",
              "        google.colab.kernel.accessAllowed ? 'block' : 'none';\n",
              "    })();\n",
              "  </script>\n",
              "</div>\n",
              "    </div>\n",
              "  </div>\n"
            ]
          },
          "metadata": {},
          "execution_count": 4
        }
      ]
    },
    {
      "cell_type": "code",
      "source": [
        "SA_train = SA_train[['text', 'sentiment']]\n",
        "SA_test = SA_test[['text', 'sentiment']]"
      ],
      "metadata": {
        "id": "QSPpW5p79V6s"
      },
      "execution_count": 5,
      "outputs": []
    },
    {
      "cell_type": "code",
      "source": [
        "import re"
      ],
      "metadata": {
        "id": "RXjcyCZh9l6K"
      },
      "execution_count": 6,
      "outputs": []
    },
    {
      "cell_type": "code",
      "source": [
        "for i in [SA_train, SA_test]:\n",
        "    i['text'] = i['text'].apply((lambda x: (re.sub('[^a-zA-z0-9\\s]','', str(x).lower()).strip().split(' '))))"
      ],
      "metadata": {
        "id": "M6k1zEro9p4M"
      },
      "execution_count": 8,
      "outputs": []
    },
    {
      "cell_type": "code",
      "source": [
        "from keras.preprocessing.text import Tokenizer\n",
        "from keras.preprocessing.sequence import pad_sequences\n",
        "from keras.layers import Embedding"
      ],
      "metadata": {
        "id": "MyJmYz3R9uua"
      },
      "execution_count": 9,
      "outputs": []
    },
    {
      "cell_type": "code",
      "source": [
        "tokenizer = Tokenizer(num_words=1200)\n",
        "tokenizer.fit_on_texts(SA_train['text'])\n",
        "\n",
        "train_sequences = tokenizer.texts_to_sequences(SA_train['text'])\n",
        "test_sequences = tokenizer.texts_to_sequences(SA_test['text'])\n",
        "\n",
        "train_sequences = pad_sequences(train_sequences, maxlen=50)\n",
        "test_sequences = pad_sequences(test_sequences, maxlen=50)"
      ],
      "metadata": {
        "id": "2VistQho-AOC"
      },
      "execution_count": 21,
      "outputs": []
    },
    {
      "cell_type": "code",
      "source": [
        "print(train_sequences.shape)\n",
        "train_sequences"
      ],
      "metadata": {
        "colab": {
          "base_uri": "https://localhost:8080/"
        },
        "id": "UG806uTi-GjK",
        "outputId": "f1dbc2ed-5ee0-4c42-9770-cf408a6c9121"
      },
      "execution_count": 22,
      "outputs": [
        {
          "output_type": "stream",
          "name": "stdout",
          "text": [
            "(27481, 50)\n"
          ]
        },
        {
          "output_type": "execute_result",
          "data": {
            "text/plain": [
              "array([[  0,   0,   0, ...,  71,   2, 137],\n",
              "       [  0,   0,   0, ...,   8, 100,   9],\n",
              "       [  0,   0,   0, ..., 103,  12,  94],\n",
              "       ...,\n",
              "       [  0,   0,   0, ...,   1, 178, 689],\n",
              "       [  0,   0,   0, ...,  23, 721,  92],\n",
              "       [  0,   0,   0, ...,   4, 506,   1]], dtype=int32)"
            ]
          },
          "metadata": {},
          "execution_count": 22
        }
      ]
    },
    {
      "cell_type": "code",
      "source": [
        "y_train = pd.get_dummies(SA_train['sentiment']).values\n",
        "y_test = pd.get_dummies(SA_test['sentiment']).values"
      ],
      "metadata": {
        "id": "AISFAQH--cVf"
      },
      "execution_count": 24,
      "outputs": []
    },
    {
      "cell_type": "code",
      "source": [
        "from keras.layers import SpatialDropout1D"
      ],
      "metadata": {
        "id": "wm6dYqR_-iWr"
      },
      "execution_count": 18,
      "outputs": []
    },
    {
      "cell_type": "code",
      "source": [
        "inputs = Input(train_sequences.shape[1])\n",
        "x = Embedding(1200, 99, input_length = train_sequences.shape[1])(inputs)\n",
        "x = SpatialDropout1D(0.5)(x)\n",
        "x = LSTM(100)(x)\n",
        "outputs = Dense(3, activation = 'softmax')(x)\n",
        "model = Model(inputs, outputs)\n",
        "model.compile(loss = 'categorical_crossentropy', optimizer='adam',metrics = ['accuracy'])\n",
        "model.summary()"
      ],
      "metadata": {
        "colab": {
          "base_uri": "https://localhost:8080/"
        },
        "id": "cZN0qPpe-9cT",
        "outputId": "1d893d53-5dbb-474b-9662-4a6618e0b1ea"
      },
      "execution_count": 25,
      "outputs": [
        {
          "output_type": "stream",
          "name": "stdout",
          "text": [
            "Model: \"model_2\"\n",
            "_________________________________________________________________\n",
            " Layer (type)                Output Shape              Param #   \n",
            "=================================================================\n",
            " input_3 (InputLayer)        [(None, 50)]              0         \n",
            "                                                                 \n",
            " embedding_2 (Embedding)     (None, 50, 99)            118800    \n",
            "                                                                 \n",
            " spatial_dropout1d_2 (Spati  (None, 50, 99)            0         \n",
            " alDropout1D)                                                    \n",
            "                                                                 \n",
            " lstm_2 (LSTM)               (None, 100)               80000     \n",
            "                                                                 \n",
            " dense_2 (Dense)             (None, 3)                 303       \n",
            "                                                                 \n",
            "=================================================================\n",
            "Total params: 199103 (777.75 KB)\n",
            "Trainable params: 199103 (777.75 KB)\n",
            "Non-trainable params: 0 (0.00 Byte)\n",
            "_________________________________________________________________\n"
          ]
        }
      ]
    },
    {
      "cell_type": "code",
      "source": [
        "model.fit(train_sequences, y_train, epochs = 10, validation_split=0.2)"
      ],
      "metadata": {
        "colab": {
          "base_uri": "https://localhost:8080/"
        },
        "id": "zaVZpsk8AFFh",
        "outputId": "ec1f29f7-ce28-4457-830e-26edd4b1faf2"
      },
      "execution_count": 26,
      "outputs": [
        {
          "output_type": "stream",
          "name": "stdout",
          "text": [
            "Epoch 1/10\n",
            "687/687 [==============================] - 32s 43ms/step - loss: 0.8976 - accuracy: 0.5762 - val_loss: 0.7846 - val_accuracy: 0.6593\n",
            "Epoch 2/10\n",
            "687/687 [==============================] - 29s 43ms/step - loss: 0.7621 - accuracy: 0.6689 - val_loss: 0.7641 - val_accuracy: 0.6665\n",
            "Epoch 3/10\n",
            "687/687 [==============================] - 30s 44ms/step - loss: 0.7323 - accuracy: 0.6855 - val_loss: 0.7569 - val_accuracy: 0.6729\n",
            "Epoch 4/10\n",
            "687/687 [==============================] - 31s 45ms/step - loss: 0.7118 - accuracy: 0.6952 - val_loss: 0.7421 - val_accuracy: 0.6838\n",
            "Epoch 5/10\n",
            "687/687 [==============================] - 30s 43ms/step - loss: 0.6945 - accuracy: 0.7022 - val_loss: 0.7427 - val_accuracy: 0.6838\n",
            "Epoch 6/10\n",
            "687/687 [==============================] - 30s 43ms/step - loss: 0.6783 - accuracy: 0.7112 - val_loss: 0.7456 - val_accuracy: 0.6851\n",
            "Epoch 7/10\n",
            "687/687 [==============================] - 29s 43ms/step - loss: 0.6603 - accuracy: 0.7179 - val_loss: 0.7633 - val_accuracy: 0.6766\n",
            "Epoch 8/10\n",
            "687/687 [==============================] - 36s 52ms/step - loss: 0.6484 - accuracy: 0.7250 - val_loss: 0.7619 - val_accuracy: 0.6738\n",
            "Epoch 9/10\n",
            "687/687 [==============================] - 32s 46ms/step - loss: 0.6343 - accuracy: 0.7298 - val_loss: 0.7648 - val_accuracy: 0.6753\n",
            "Epoch 10/10\n",
            "687/687 [==============================] - 31s 45ms/step - loss: 0.6223 - accuracy: 0.7367 - val_loss: 0.7886 - val_accuracy: 0.6738\n"
          ]
        },
        {
          "output_type": "execute_result",
          "data": {
            "text/plain": [
              "<keras.src.callbacks.History at 0x7853413f7910>"
            ]
          },
          "metadata": {},
          "execution_count": 26
        }
      ]
    },
    {
      "cell_type": "code",
      "source": [
        "electricity = pd.read_csv('/content/Electricity_load_forecasting - Electricity_load_forecasting.csv')"
      ],
      "metadata": {
        "id": "1SB1k8RdAJB5"
      },
      "execution_count": 2,
      "outputs": []
    },
    {
      "cell_type": "code",
      "source": [
        "electricity.head()"
      ],
      "metadata": {
        "colab": {
          "base_uri": "https://localhost:8080/",
          "height": 399
        },
        "id": "k4Y7vokDCiTw",
        "outputId": "ce65acba-6042-49a5-d8be-37d357d56f92"
      },
      "execution_count": 3,
      "outputs": [
        {
          "output_type": "execute_result",
          "data": {
            "text/plain": [
              "          datetime  nat_demand    T2M_toc  QV2M_toc   TQL_toc    W2M_toc  \\\n",
              "0  03-01-2015 1:00    970.3450  25.865259  0.018576  0.016174  21.850546   \n",
              "1  03-01-2015 2:00    912.1755  25.899255  0.018653  0.016418  22.166944   \n",
              "2  03-01-2015 3:00    900.2688  25.937280  0.018768  0.015480  22.454911   \n",
              "3  03-01-2015 4:00    889.9538  25.957544  0.018890  0.016273  22.110481   \n",
              "4  03-01-2015 5:00    893.6865  25.973840  0.018981  0.017281  21.186089   \n",
              "\n",
              "     T2M_san  QV2M_san   TQL_san    W2M_san    T2M_dav  QV2M_dav   TQL_dav  \\\n",
              "0  23.482446  0.017272  0.001855  10.328949  22.662134  0.016562  0.096100   \n",
              "1  23.399255  0.017265  0.001327  10.681517  22.578943  0.016509  0.087646   \n",
              "2  23.343530  0.017211  0.001428  10.874924  22.531030  0.016479  0.078735   \n",
              "3  23.238794  0.017128  0.002599  10.518620  22.512231  0.016487  0.068390   \n",
              "4  23.075403  0.017059  0.001729   9.733589  22.481653  0.016456  0.064362   \n",
              "\n",
              "    W2M_dav  Holiday_ID  holiday  school  \n",
              "0  5.364148           0        0       0  \n",
              "1  5.572471           0        0       0  \n",
              "2  5.871184           0        0       0  \n",
              "3  5.883621           0        0       0  \n",
              "4  5.611724           0        0       0  "
            ],
            "text/html": [
              "\n",
              "  <div id=\"df-12307fb0-79b2-4097-baae-98310f6fa292\" class=\"colab-df-container\">\n",
              "    <div>\n",
              "<style scoped>\n",
              "    .dataframe tbody tr th:only-of-type {\n",
              "        vertical-align: middle;\n",
              "    }\n",
              "\n",
              "    .dataframe tbody tr th {\n",
              "        vertical-align: top;\n",
              "    }\n",
              "\n",
              "    .dataframe thead th {\n",
              "        text-align: right;\n",
              "    }\n",
              "</style>\n",
              "<table border=\"1\" class=\"dataframe\">\n",
              "  <thead>\n",
              "    <tr style=\"text-align: right;\">\n",
              "      <th></th>\n",
              "      <th>datetime</th>\n",
              "      <th>nat_demand</th>\n",
              "      <th>T2M_toc</th>\n",
              "      <th>QV2M_toc</th>\n",
              "      <th>TQL_toc</th>\n",
              "      <th>W2M_toc</th>\n",
              "      <th>T2M_san</th>\n",
              "      <th>QV2M_san</th>\n",
              "      <th>TQL_san</th>\n",
              "      <th>W2M_san</th>\n",
              "      <th>T2M_dav</th>\n",
              "      <th>QV2M_dav</th>\n",
              "      <th>TQL_dav</th>\n",
              "      <th>W2M_dav</th>\n",
              "      <th>Holiday_ID</th>\n",
              "      <th>holiday</th>\n",
              "      <th>school</th>\n",
              "    </tr>\n",
              "  </thead>\n",
              "  <tbody>\n",
              "    <tr>\n",
              "      <th>0</th>\n",
              "      <td>03-01-2015 1:00</td>\n",
              "      <td>970.3450</td>\n",
              "      <td>25.865259</td>\n",
              "      <td>0.018576</td>\n",
              "      <td>0.016174</td>\n",
              "      <td>21.850546</td>\n",
              "      <td>23.482446</td>\n",
              "      <td>0.017272</td>\n",
              "      <td>0.001855</td>\n",
              "      <td>10.328949</td>\n",
              "      <td>22.662134</td>\n",
              "      <td>0.016562</td>\n",
              "      <td>0.096100</td>\n",
              "      <td>5.364148</td>\n",
              "      <td>0</td>\n",
              "      <td>0</td>\n",
              "      <td>0</td>\n",
              "    </tr>\n",
              "    <tr>\n",
              "      <th>1</th>\n",
              "      <td>03-01-2015 2:00</td>\n",
              "      <td>912.1755</td>\n",
              "      <td>25.899255</td>\n",
              "      <td>0.018653</td>\n",
              "      <td>0.016418</td>\n",
              "      <td>22.166944</td>\n",
              "      <td>23.399255</td>\n",
              "      <td>0.017265</td>\n",
              "      <td>0.001327</td>\n",
              "      <td>10.681517</td>\n",
              "      <td>22.578943</td>\n",
              "      <td>0.016509</td>\n",
              "      <td>0.087646</td>\n",
              "      <td>5.572471</td>\n",
              "      <td>0</td>\n",
              "      <td>0</td>\n",
              "      <td>0</td>\n",
              "    </tr>\n",
              "    <tr>\n",
              "      <th>2</th>\n",
              "      <td>03-01-2015 3:00</td>\n",
              "      <td>900.2688</td>\n",
              "      <td>25.937280</td>\n",
              "      <td>0.018768</td>\n",
              "      <td>0.015480</td>\n",
              "      <td>22.454911</td>\n",
              "      <td>23.343530</td>\n",
              "      <td>0.017211</td>\n",
              "      <td>0.001428</td>\n",
              "      <td>10.874924</td>\n",
              "      <td>22.531030</td>\n",
              "      <td>0.016479</td>\n",
              "      <td>0.078735</td>\n",
              "      <td>5.871184</td>\n",
              "      <td>0</td>\n",
              "      <td>0</td>\n",
              "      <td>0</td>\n",
              "    </tr>\n",
              "    <tr>\n",
              "      <th>3</th>\n",
              "      <td>03-01-2015 4:00</td>\n",
              "      <td>889.9538</td>\n",
              "      <td>25.957544</td>\n",
              "      <td>0.018890</td>\n",
              "      <td>0.016273</td>\n",
              "      <td>22.110481</td>\n",
              "      <td>23.238794</td>\n",
              "      <td>0.017128</td>\n",
              "      <td>0.002599</td>\n",
              "      <td>10.518620</td>\n",
              "      <td>22.512231</td>\n",
              "      <td>0.016487</td>\n",
              "      <td>0.068390</td>\n",
              "      <td>5.883621</td>\n",
              "      <td>0</td>\n",
              "      <td>0</td>\n",
              "      <td>0</td>\n",
              "    </tr>\n",
              "    <tr>\n",
              "      <th>4</th>\n",
              "      <td>03-01-2015 5:00</td>\n",
              "      <td>893.6865</td>\n",
              "      <td>25.973840</td>\n",
              "      <td>0.018981</td>\n",
              "      <td>0.017281</td>\n",
              "      <td>21.186089</td>\n",
              "      <td>23.075403</td>\n",
              "      <td>0.017059</td>\n",
              "      <td>0.001729</td>\n",
              "      <td>9.733589</td>\n",
              "      <td>22.481653</td>\n",
              "      <td>0.016456</td>\n",
              "      <td>0.064362</td>\n",
              "      <td>5.611724</td>\n",
              "      <td>0</td>\n",
              "      <td>0</td>\n",
              "      <td>0</td>\n",
              "    </tr>\n",
              "  </tbody>\n",
              "</table>\n",
              "</div>\n",
              "    <div class=\"colab-df-buttons\">\n",
              "\n",
              "  <div class=\"colab-df-container\">\n",
              "    <button class=\"colab-df-convert\" onclick=\"convertToInteractive('df-12307fb0-79b2-4097-baae-98310f6fa292')\"\n",
              "            title=\"Convert this dataframe to an interactive table.\"\n",
              "            style=\"display:none;\">\n",
              "\n",
              "  <svg xmlns=\"http://www.w3.org/2000/svg\" height=\"24px\" viewBox=\"0 -960 960 960\">\n",
              "    <path d=\"M120-120v-720h720v720H120Zm60-500h600v-160H180v160Zm220 220h160v-160H400v160Zm0 220h160v-160H400v160ZM180-400h160v-160H180v160Zm440 0h160v-160H620v160ZM180-180h160v-160H180v160Zm440 0h160v-160H620v160Z\"/>\n",
              "  </svg>\n",
              "    </button>\n",
              "\n",
              "  <style>\n",
              "    .colab-df-container {\n",
              "      display:flex;\n",
              "      gap: 12px;\n",
              "    }\n",
              "\n",
              "    .colab-df-convert {\n",
              "      background-color: #E8F0FE;\n",
              "      border: none;\n",
              "      border-radius: 50%;\n",
              "      cursor: pointer;\n",
              "      display: none;\n",
              "      fill: #1967D2;\n",
              "      height: 32px;\n",
              "      padding: 0 0 0 0;\n",
              "      width: 32px;\n",
              "    }\n",
              "\n",
              "    .colab-df-convert:hover {\n",
              "      background-color: #E2EBFA;\n",
              "      box-shadow: 0px 1px 2px rgba(60, 64, 67, 0.3), 0px 1px 3px 1px rgba(60, 64, 67, 0.15);\n",
              "      fill: #174EA6;\n",
              "    }\n",
              "\n",
              "    .colab-df-buttons div {\n",
              "      margin-bottom: 4px;\n",
              "    }\n",
              "\n",
              "    [theme=dark] .colab-df-convert {\n",
              "      background-color: #3B4455;\n",
              "      fill: #D2E3FC;\n",
              "    }\n",
              "\n",
              "    [theme=dark] .colab-df-convert:hover {\n",
              "      background-color: #434B5C;\n",
              "      box-shadow: 0px 1px 3px 1px rgba(0, 0, 0, 0.15);\n",
              "      filter: drop-shadow(0px 1px 2px rgba(0, 0, 0, 0.3));\n",
              "      fill: #FFFFFF;\n",
              "    }\n",
              "  </style>\n",
              "\n",
              "    <script>\n",
              "      const buttonEl =\n",
              "        document.querySelector('#df-12307fb0-79b2-4097-baae-98310f6fa292 button.colab-df-convert');\n",
              "      buttonEl.style.display =\n",
              "        google.colab.kernel.accessAllowed ? 'block' : 'none';\n",
              "\n",
              "      async function convertToInteractive(key) {\n",
              "        const element = document.querySelector('#df-12307fb0-79b2-4097-baae-98310f6fa292');\n",
              "        const dataTable =\n",
              "          await google.colab.kernel.invokeFunction('convertToInteractive',\n",
              "                                                    [key], {});\n",
              "        if (!dataTable) return;\n",
              "\n",
              "        const docLinkHtml = 'Like what you see? Visit the ' +\n",
              "          '<a target=\"_blank\" href=https://colab.research.google.com/notebooks/data_table.ipynb>data table notebook</a>'\n",
              "          + ' to learn more about interactive tables.';\n",
              "        element.innerHTML = '';\n",
              "        dataTable['output_type'] = 'display_data';\n",
              "        await google.colab.output.renderOutput(dataTable, element);\n",
              "        const docLink = document.createElement('div');\n",
              "        docLink.innerHTML = docLinkHtml;\n",
              "        element.appendChild(docLink);\n",
              "      }\n",
              "    </script>\n",
              "  </div>\n",
              "\n",
              "\n",
              "<div id=\"df-b87c2655-0442-4431-b013-fa5a60dd1a17\">\n",
              "  <button class=\"colab-df-quickchart\" onclick=\"quickchart('df-b87c2655-0442-4431-b013-fa5a60dd1a17')\"\n",
              "            title=\"Suggest charts.\"\n",
              "            style=\"display:none;\">\n",
              "\n",
              "<svg xmlns=\"http://www.w3.org/2000/svg\" height=\"24px\"viewBox=\"0 0 24 24\"\n",
              "     width=\"24px\">\n",
              "    <g>\n",
              "        <path d=\"M19 3H5c-1.1 0-2 .9-2 2v14c0 1.1.9 2 2 2h14c1.1 0 2-.9 2-2V5c0-1.1-.9-2-2-2zM9 17H7v-7h2v7zm4 0h-2V7h2v10zm4 0h-2v-4h2v4z\"/>\n",
              "    </g>\n",
              "</svg>\n",
              "  </button>\n",
              "\n",
              "<style>\n",
              "  .colab-df-quickchart {\n",
              "      --bg-color: #E8F0FE;\n",
              "      --fill-color: #1967D2;\n",
              "      --hover-bg-color: #E2EBFA;\n",
              "      --hover-fill-color: #174EA6;\n",
              "      --disabled-fill-color: #AAA;\n",
              "      --disabled-bg-color: #DDD;\n",
              "  }\n",
              "\n",
              "  [theme=dark] .colab-df-quickchart {\n",
              "      --bg-color: #3B4455;\n",
              "      --fill-color: #D2E3FC;\n",
              "      --hover-bg-color: #434B5C;\n",
              "      --hover-fill-color: #FFFFFF;\n",
              "      --disabled-bg-color: #3B4455;\n",
              "      --disabled-fill-color: #666;\n",
              "  }\n",
              "\n",
              "  .colab-df-quickchart {\n",
              "    background-color: var(--bg-color);\n",
              "    border: none;\n",
              "    border-radius: 50%;\n",
              "    cursor: pointer;\n",
              "    display: none;\n",
              "    fill: var(--fill-color);\n",
              "    height: 32px;\n",
              "    padding: 0;\n",
              "    width: 32px;\n",
              "  }\n",
              "\n",
              "  .colab-df-quickchart:hover {\n",
              "    background-color: var(--hover-bg-color);\n",
              "    box-shadow: 0 1px 2px rgba(60, 64, 67, 0.3), 0 1px 3px 1px rgba(60, 64, 67, 0.15);\n",
              "    fill: var(--button-hover-fill-color);\n",
              "  }\n",
              "\n",
              "  .colab-df-quickchart-complete:disabled,\n",
              "  .colab-df-quickchart-complete:disabled:hover {\n",
              "    background-color: var(--disabled-bg-color);\n",
              "    fill: var(--disabled-fill-color);\n",
              "    box-shadow: none;\n",
              "  }\n",
              "\n",
              "  .colab-df-spinner {\n",
              "    border: 2px solid var(--fill-color);\n",
              "    border-color: transparent;\n",
              "    border-bottom-color: var(--fill-color);\n",
              "    animation:\n",
              "      spin 1s steps(1) infinite;\n",
              "  }\n",
              "\n",
              "  @keyframes spin {\n",
              "    0% {\n",
              "      border-color: transparent;\n",
              "      border-bottom-color: var(--fill-color);\n",
              "      border-left-color: var(--fill-color);\n",
              "    }\n",
              "    20% {\n",
              "      border-color: transparent;\n",
              "      border-left-color: var(--fill-color);\n",
              "      border-top-color: var(--fill-color);\n",
              "    }\n",
              "    30% {\n",
              "      border-color: transparent;\n",
              "      border-left-color: var(--fill-color);\n",
              "      border-top-color: var(--fill-color);\n",
              "      border-right-color: var(--fill-color);\n",
              "    }\n",
              "    40% {\n",
              "      border-color: transparent;\n",
              "      border-right-color: var(--fill-color);\n",
              "      border-top-color: var(--fill-color);\n",
              "    }\n",
              "    60% {\n",
              "      border-color: transparent;\n",
              "      border-right-color: var(--fill-color);\n",
              "    }\n",
              "    80% {\n",
              "      border-color: transparent;\n",
              "      border-right-color: var(--fill-color);\n",
              "      border-bottom-color: var(--fill-color);\n",
              "    }\n",
              "    90% {\n",
              "      border-color: transparent;\n",
              "      border-bottom-color: var(--fill-color);\n",
              "    }\n",
              "  }\n",
              "</style>\n",
              "\n",
              "  <script>\n",
              "    async function quickchart(key) {\n",
              "      const quickchartButtonEl =\n",
              "        document.querySelector('#' + key + ' button');\n",
              "      quickchartButtonEl.disabled = true;  // To prevent multiple clicks.\n",
              "      quickchartButtonEl.classList.add('colab-df-spinner');\n",
              "      try {\n",
              "        const charts = await google.colab.kernel.invokeFunction(\n",
              "            'suggestCharts', [key], {});\n",
              "      } catch (error) {\n",
              "        console.error('Error during call to suggestCharts:', error);\n",
              "      }\n",
              "      quickchartButtonEl.classList.remove('colab-df-spinner');\n",
              "      quickchartButtonEl.classList.add('colab-df-quickchart-complete');\n",
              "    }\n",
              "    (() => {\n",
              "      let quickchartButtonEl =\n",
              "        document.querySelector('#df-b87c2655-0442-4431-b013-fa5a60dd1a17 button');\n",
              "      quickchartButtonEl.style.display =\n",
              "        google.colab.kernel.accessAllowed ? 'block' : 'none';\n",
              "    })();\n",
              "  </script>\n",
              "</div>\n",
              "    </div>\n",
              "  </div>\n"
            ]
          },
          "metadata": {},
          "execution_count": 3
        }
      ]
    },
    {
      "cell_type": "code",
      "source": [
        "electricity = electricity.drop(columns = ['Holiday_ID'])"
      ],
      "metadata": {
        "id": "6vgvW1YuEkVh"
      },
      "execution_count": 4,
      "outputs": []
    },
    {
      "cell_type": "code",
      "source": [
        "rolling_window = electricity['nat_demand'].rolling(window=700, min_periods = 1)\n",
        "electricity['nat_demand_ma'] = rolling_window.mean()"
      ],
      "metadata": {
        "id": "6Fb-mvb1ErRD"
      },
      "execution_count": 5,
      "outputs": []
    },
    {
      "cell_type": "code",
      "source": [
        "electricity['nat_demand_lag'] = electricity['nat_demand'].shift(1)"
      ],
      "metadata": {
        "id": "p_EU-oT2E4X5"
      },
      "execution_count": 6,
      "outputs": []
    },
    {
      "cell_type": "code",
      "source": [
        "electricity = electricity.set_index('datetime')"
      ],
      "metadata": {
        "id": "7op_tJkjFA22"
      },
      "execution_count": 7,
      "outputs": []
    },
    {
      "cell_type": "code",
      "source": [
        "electricity = electricity.dropna()"
      ],
      "metadata": {
        "id": "FIBZvYj6FE_N"
      },
      "execution_count": 8,
      "outputs": []
    },
    {
      "cell_type": "code",
      "source": [
        "x = electricity.drop(columns = ['nat_demand'])\n",
        "y = electricity['nat_demand']"
      ],
      "metadata": {
        "id": "HRiDu24vFLFi"
      },
      "execution_count": 9,
      "outputs": []
    },
    {
      "cell_type": "code",
      "source": [
        "x_train, y_train = x.iloc[:35020], y.iloc[:35020]\n",
        "x_test, y_test = x.iloc[35020:], y.iloc[35020:]"
      ],
      "metadata": {
        "id": "wQoZJSI0FR5N"
      },
      "execution_count": 10,
      "outputs": []
    },
    {
      "cell_type": "code",
      "source": [
        "from sklearn.preprocessing import MinMaxScaler\n",
        "scaler = MinMaxScaler()\n",
        "x_train.iloc[:,:] = scaler.fit_transform(x_train)\n",
        "x_test.iloc[:,:] = scaler.transform(x_test)"
      ],
      "metadata": {
        "colab": {
          "base_uri": "https://localhost:8080/"
        },
        "id": "KfAYns4-FUi3",
        "outputId": "df023101-43d9-4118-c4f9-60cdff72bb92"
      },
      "execution_count": 11,
      "outputs": [
        {
          "output_type": "stream",
          "name": "stderr",
          "text": [
            "<ipython-input-11-cf368fa7a3a1>:3: SettingWithCopyWarning: \n",
            "A value is trying to be set on a copy of a slice from a DataFrame.\n",
            "Try using .loc[row_indexer,col_indexer] = value instead\n",
            "\n",
            "See the caveats in the documentation: https://pandas.pydata.org/pandas-docs/stable/user_guide/indexing.html#returning-a-view-versus-a-copy\n",
            "  x_train.iloc[:,:] = scaler.fit_transform(x_train)\n",
            "<ipython-input-11-cf368fa7a3a1>:3: DeprecationWarning: In a future version, `df.iloc[:, i] = newvals` will attempt to set the values inplace instead of always setting a new array. To retain the old behavior, use either `df[df.columns[i]] = newvals` or, if columns are non-unique, `df.isetitem(i, newvals)`\n",
            "  x_train.iloc[:,:] = scaler.fit_transform(x_train)\n",
            "<ipython-input-11-cf368fa7a3a1>:4: SettingWithCopyWarning: \n",
            "A value is trying to be set on a copy of a slice from a DataFrame.\n",
            "Try using .loc[row_indexer,col_indexer] = value instead\n",
            "\n",
            "See the caveats in the documentation: https://pandas.pydata.org/pandas-docs/stable/user_guide/indexing.html#returning-a-view-versus-a-copy\n",
            "  x_test.iloc[:,:] = scaler.transform(x_test)\n",
            "<ipython-input-11-cf368fa7a3a1>:4: DeprecationWarning: In a future version, `df.iloc[:, i] = newvals` will attempt to set the values inplace instead of always setting a new array. To retain the old behavior, use either `df[df.columns[i]] = newvals` or, if columns are non-unique, `df.isetitem(i, newvals)`\n",
            "  x_test.iloc[:,:] = scaler.transform(x_test)\n"
          ]
        }
      ]
    },
    {
      "cell_type": "code",
      "source": [
        "def timestep(df, size):\n",
        "    X, y = [], []\n",
        "    num_of_features = df.shape[1] - 1\n",
        "    for i in range(size, df.shape[0]):\n",
        "        X.append(df.iloc[i-size:i, 1:num_of_features+1].values)\n",
        "        y.append(df.iloc[i-size:i, 0])\n",
        "    X, y = np.array(X), np.array(y)\n",
        "    X = X.reshape(df.shape[0]-size, size, num_of_features)\n",
        "\n",
        "    return X, y"
      ],
      "metadata": {
        "id": "Zdcri7EwFeWc"
      },
      "execution_count": 12,
      "outputs": []
    },
    {
      "cell_type": "code",
      "source": [
        "from sklearn.preprocessing import StandardScaler"
      ],
      "metadata": {
        "id": "1UnopmxrGfJ5"
      },
      "execution_count": 13,
      "outputs": []
    },
    {
      "cell_type": "code",
      "source": [
        "train, test = train_test_split(electricity, test_size=0.2, shuffle=False)"
      ],
      "metadata": {
        "id": "3S0VGv0xGuIL"
      },
      "execution_count": 14,
      "outputs": []
    },
    {
      "cell_type": "code",
      "source": [
        "#Scaling\n",
        "scaler = StandardScaler()\n",
        "train.iloc[:, 1:] = scaler.fit_transform(train.iloc[:, 1:])\n",
        "test.iloc[:, 1:] = scaler.transform(test.iloc[:, 1:])"
      ],
      "metadata": {
        "id": "iPmPZZyJGHEg"
      },
      "execution_count": 15,
      "outputs": []
    },
    {
      "cell_type": "code",
      "source": [
        "X_train, y_train = timestep(train, 4)\n",
        "X_test, y_test = timestep(test, 4)"
      ],
      "metadata": {
        "id": "EKo-Qo7YGzmE"
      },
      "execution_count": 31,
      "outputs": []
    },
    {
      "cell_type": "code",
      "source": [
        "input = Input((X_train.shape[1:]))\n",
        "x = LSTM(100, return_sequences=True)(input)\n",
        "x = LSTM(100)(x)\n",
        "x = Dense(16, activation='relu')(x)\n",
        "x = Dense(8, activation='relu')(x)\n",
        "output = Dense(1, activation='linear')(x)\n",
        "model = Model(input,output)"
      ],
      "metadata": {
        "id": "NEx1KRyuG8i1"
      },
      "execution_count": 32,
      "outputs": []
    },
    {
      "cell_type": "code",
      "source": [
        "model.summary()"
      ],
      "metadata": {
        "colab": {
          "base_uri": "https://localhost:8080/"
        },
        "id": "hSTv4E7ZHt1G",
        "outputId": "1408d391-d2cf-4a18-af4b-ac4410723b6b"
      },
      "execution_count": 33,
      "outputs": [
        {
          "output_type": "stream",
          "name": "stdout",
          "text": [
            "Model: \"model_2\"\n",
            "_________________________________________________________________\n",
            " Layer (type)                Output Shape              Param #   \n",
            "=================================================================\n",
            " input_3 (InputLayer)        [(None, 4, 16)]           0         \n",
            "                                                                 \n",
            " lstm_4 (LSTM)               (None, 4, 100)            46800     \n",
            "                                                                 \n",
            " lstm_5 (LSTM)               (None, 100)               80400     \n",
            "                                                                 \n",
            " dense_6 (Dense)             (None, 16)                1616      \n",
            "                                                                 \n",
            " dense_7 (Dense)             (None, 8)                 136       \n",
            "                                                                 \n",
            " dense_8 (Dense)             (None, 1)                 9         \n",
            "                                                                 \n",
            "=================================================================\n",
            "Total params: 128961 (503.75 KB)\n",
            "Trainable params: 128961 (503.75 KB)\n",
            "Non-trainable params: 0 (0.00 Byte)\n",
            "_________________________________________________________________\n"
          ]
        }
      ]
    },
    {
      "cell_type": "code",
      "source": [
        "model.compile(loss='mean_squared_error', optimizer='adam', metrics=['mae'])\n",
        "model.fit(X_train, y_train, epochs=25, validation_split = 0.2)"
      ],
      "metadata": {
        "colab": {
          "base_uri": "https://localhost:8080/"
        },
        "id": "MsMvnQFkHvr3",
        "outputId": "146cccd2-d3da-4e2f-e4c2-5c086a0ad8f1"
      },
      "execution_count": 34,
      "outputs": [
        {
          "output_type": "stream",
          "name": "stdout",
          "text": [
            "Epoch 1/25\n",
            "876/876 [==============================] - 15s 12ms/step - loss: 484566.5312 - mae: 548.7530 - val_loss: 49556.8750 - val_mae: 171.6681\n",
            "Epoch 2/25\n",
            "876/876 [==============================] - 8s 9ms/step - loss: 17738.4434 - mae: 98.0510 - val_loss: 4321.7866 - val_mae: 48.9131\n",
            "Epoch 3/25\n",
            "876/876 [==============================] - 9s 11ms/step - loss: 3942.2971 - mae: 44.8457 - val_loss: 3830.1348 - val_mae: 45.2399\n",
            "Epoch 4/25\n",
            "876/876 [==============================] - 9s 11ms/step - loss: 3851.3997 - mae: 44.0466 - val_loss: 3746.0090 - val_mae: 44.5477\n",
            "Epoch 5/25\n",
            "876/876 [==============================] - 8s 9ms/step - loss: 3827.9397 - mae: 43.8481 - val_loss: 3767.9160 - val_mae: 44.4729\n",
            "Epoch 6/25\n",
            "876/876 [==============================] - 9s 11ms/step - loss: 3821.0789 - mae: 43.8158 - val_loss: 3732.3723 - val_mae: 44.2317\n",
            "Epoch 7/25\n",
            "876/876 [==============================] - 10s 12ms/step - loss: 3812.6121 - mae: 43.7565 - val_loss: 3726.4285 - val_mae: 44.3579\n",
            "Epoch 8/25\n",
            "876/876 [==============================] - 9s 11ms/step - loss: 3805.8193 - mae: 43.7259 - val_loss: 3717.8591 - val_mae: 44.4117\n",
            "Epoch 9/25\n",
            "876/876 [==============================] - 8s 9ms/step - loss: 3802.9062 - mae: 43.7103 - val_loss: 3711.2805 - val_mae: 44.2471\n",
            "Epoch 10/25\n",
            "876/876 [==============================] - 9s 11ms/step - loss: 3798.2712 - mae: 43.7026 - val_loss: 3705.7986 - val_mae: 44.0081\n",
            "Epoch 11/25\n",
            "876/876 [==============================] - 9s 11ms/step - loss: 3798.3633 - mae: 43.7182 - val_loss: 3699.0159 - val_mae: 43.8878\n",
            "Epoch 12/25\n",
            "876/876 [==============================] - 9s 10ms/step - loss: 3794.2168 - mae: 43.6807 - val_loss: 3693.2786 - val_mae: 44.0465\n",
            "Epoch 13/25\n",
            "876/876 [==============================] - 9s 10ms/step - loss: 3791.7495 - mae: 43.6777 - val_loss: 3713.0872 - val_mae: 44.3999\n",
            "Epoch 14/25\n",
            "876/876 [==============================] - 10s 11ms/step - loss: 3790.4675 - mae: 43.6732 - val_loss: 3718.4951 - val_mae: 44.2301\n",
            "Epoch 15/25\n",
            "876/876 [==============================] - 10s 11ms/step - loss: 3788.9810 - mae: 43.6689 - val_loss: 3716.0156 - val_mae: 44.0389\n",
            "Epoch 16/25\n",
            "876/876 [==============================] - 9s 10ms/step - loss: 3788.6721 - mae: 43.6723 - val_loss: 3692.0151 - val_mae: 44.0664\n",
            "Epoch 17/25\n",
            "876/876 [==============================] - 10s 11ms/step - loss: 3785.1057 - mae: 43.6495 - val_loss: 3691.6172 - val_mae: 43.9278\n",
            "Epoch 18/25\n",
            "876/876 [==============================] - 10s 11ms/step - loss: 3785.2454 - mae: 43.6540 - val_loss: 3692.9004 - val_mae: 43.8983\n",
            "Epoch 19/25\n",
            "876/876 [==============================] - 9s 11ms/step - loss: 3785.5659 - mae: 43.6630 - val_loss: 3705.6531 - val_mae: 44.1724\n",
            "Epoch 20/25\n",
            "876/876 [==============================] - 9s 10ms/step - loss: 3783.7268 - mae: 43.6616 - val_loss: 3699.3613 - val_mae: 43.9242\n",
            "Epoch 21/25\n",
            "876/876 [==============================] - 9s 10ms/step - loss: 3782.1267 - mae: 43.6372 - val_loss: 3690.0869 - val_mae: 43.9418\n",
            "Epoch 22/25\n",
            "876/876 [==============================] - 9s 11ms/step - loss: 3781.1895 - mae: 43.6426 - val_loss: 3691.9119 - val_mae: 43.9115\n",
            "Epoch 23/25\n",
            "876/876 [==============================] - 10s 11ms/step - loss: 3779.9658 - mae: 43.6263 - val_loss: 3705.4009 - val_mae: 44.0907\n",
            "Epoch 24/25\n",
            "876/876 [==============================] - 8s 10ms/step - loss: 3780.3184 - mae: 43.6374 - val_loss: 3699.5183 - val_mae: 43.9100\n",
            "Epoch 25/25\n",
            "876/876 [==============================] - 9s 11ms/step - loss: 3778.9519 - mae: 43.6261 - val_loss: 3690.1570 - val_mae: 43.9229\n"
          ]
        },
        {
          "output_type": "execute_result",
          "data": {
            "text/plain": [
              "<keras.src.callbacks.History at 0x7f36c1c49390>"
            ]
          },
          "metadata": {},
          "execution_count": 34
        }
      ]
    },
    {
      "cell_type": "code",
      "source": [
        "y_pred = model.predict(X_test)\n",
        "pred_df = pd.DataFrame({'datetime': test.index[:-4], 'pred': y_pred.reshape(-1)})"
      ],
      "metadata": {
        "colab": {
          "base_uri": "https://localhost:8080/"
        },
        "id": "5IC6aQ_mH8NB",
        "outputId": "08c279fe-14ff-4c3c-8fcc-5842b13cf640"
      },
      "execution_count": 36,
      "outputs": [
        {
          "output_type": "stream",
          "name": "stdout",
          "text": [
            "274/274 [==============================] - 2s 6ms/step\n"
          ]
        }
      ]
    },
    {
      "cell_type": "code",
      "source": [
        "X_test.shape"
      ],
      "metadata": {
        "colab": {
          "base_uri": "https://localhost:8080/"
        },
        "id": "zBG1ZB7FT0Ef",
        "outputId": "cd8a2b2b-25bc-428b-f183-52229b4f46bc"
      },
      "execution_count": 37,
      "outputs": [
        {
          "output_type": "execute_result",
          "data": {
            "text/plain": [
              "(8751, 4, 16)"
            ]
          },
          "metadata": {},
          "execution_count": 37
        }
      ]
    },
    {
      "cell_type": "code",
      "source": [
        "rmse = mean_squared_error(test.nat_demand[:-4], y_pred)**0.5\n",
        "mae = mean_absolute_error(test.nat_demand[:-4], y_pred)\n",
        "r2 = r2_score(test.nat_demand[:-4], y_pred)\n",
        "print('RMSE:',rmse)\n",
        "print('MAE:',mae)\n",
        "print('R2 Score:',r2)"
      ],
      "metadata": {
        "colab": {
          "base_uri": "https://localhost:8080/"
        },
        "id": "gtVzCzNuPgZ-",
        "outputId": "e3cef002-761a-42ed-9b64-69592692dd12"
      },
      "execution_count": 38,
      "outputs": [
        {
          "output_type": "stream",
          "name": "stdout",
          "text": [
            "RMSE: 79.68305986783587\n",
            "MAE: 62.368328484278145\n",
            "R2 Score: 0.8224741716480002\n"
          ]
        }
      ]
    }
  ]
}